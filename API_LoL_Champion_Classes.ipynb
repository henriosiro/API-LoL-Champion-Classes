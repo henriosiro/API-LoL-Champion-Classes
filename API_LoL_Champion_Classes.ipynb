{
 "cells": [
  {
   "cell_type": "code",
   "execution_count": null,
   "id": "914d7566",
   "metadata": {},
   "outputs": [],
   "source": [
    "from PIL import Image\n",
    "from IPython.display import display\n",
    "import requests as r"
   ]
  },
  {
   "cell_type": "code",
   "execution_count": null,
   "id": "a0979ad7",
   "metadata": {},
   "outputs": [],
   "source": [
    "url = 'http://ddragon.leagueoflegends.com/cdn/11.14.1/data/en_US/champion.json'\n",
    "resp = r.get(url)\n",
    "if resp.status_code == 200:\n",
    "    print('A leitura do Data Dragon funcionou!')\n",
    "else:\n",
    "    print('A leitura do Data Dragon falhou.')"
   ]
  },
  {
   "cell_type": "code",
   "execution_count": null,
   "id": "4005a8f9",
   "metadata": {},
   "outputs": [],
   "source": [
    "raw_data = resp.json()\n",
    "champions_data = []\n",
    "for value in raw_data['data'].values():\n",
    "    champions_data.append([value['id'], value['tags']])\n",
    "champions_data.insert(0, ['Campeão', 'Classe'])\n",
    "print(champions_data)"
   ]
  },
  {
   "cell_type": "code",
   "execution_count": null,
   "id": "39557a9b",
   "metadata": {},
   "outputs": [],
   "source": [
    "def get_datasets(y, labels):\n",
    "    if type(y[0]) == list:\n",
    "        datasets = []\n",
    "        for i in range(len(y)):\n",
    "            datasets.append({\n",
    "                'label': labels[i],\n",
    "                'data': y[i]\n",
    "            })\n",
    "        return datasets\n",
    "    else:\n",
    "        return [\n",
    "            {\n",
    "                'label': labels[0],\n",
    "                'data': y\n",
    "            }\n",
    "        ]\n",
    "\n",
    "def set_title(title = ''):\n",
    "    if title != '':\n",
    "        display = 'false'\n",
    "    else:\n",
    "        display = 'true'\n",
    "    return {\n",
    "        'title': title,\n",
    "        'display': display\n",
    "    }\n",
    "\n",
    "def create_chart(x, y, labels, kind = 'bar', title = ''):\n",
    "    datasets = get_datasets(y, labels)\n",
    "    chart = {\n",
    "        'type': kind,\n",
    "        'data': {\n",
    "            'labels': x,\n",
    "            'datasets': datasets\n",
    "        }\n",
    "    }\n",
    "    return chart\n",
    "\n",
    "def get_api_chart(chart):\n",
    "    url_base = 'https://quickchart.io/chart'\n",
    "    resp = r.get(f'{url_base}?c={str(chart)}')\n",
    "    return resp.content\n",
    "\n",
    "def save_image(path, content):\n",
    "    with open(path, 'wb') as image:\n",
    "        image.write(content)\n",
    "        \n",
    "def display_image(path):\n",
    "    img_pil = Image.open(path)\n",
    "    display(img_pil)"
   ]
  },
  {
   "cell_type": "code",
   "execution_count": null,
   "id": "99283d16",
   "metadata": {},
   "outputs": [],
   "source": [
    "y = [0, 0, 0, 0, 0, 0]\n",
    "for i in range(1, len(champions_data)):\n",
    "    if champions_data[i][1][0] == 'Assassin':\n",
    "        y[0] += 1\n",
    "    if champions_data[i][1][0] == 'Fighter':\n",
    "        y[1] += 1\n",
    "    if champions_data[i][1][0] == 'Mage':\n",
    "        y[2] += 1\n",
    "    if champions_data[i][1][0] == 'Marksman':\n",
    "        y[3] += 1\n",
    "    if champions_data[i][1][0] == 'Support':\n",
    "        y[4] += 1\n",
    "    if champions_data[i][1][0] == 'Tank':\n",
    "        y[5] += 1\n",
    "print(y)"
   ]
  },
  {
   "cell_type": "code",
   "execution_count": null,
   "id": "b50dc391",
   "metadata": {},
   "outputs": [],
   "source": [
    "x = ['Assassino', 'Lutador', 'Mago', 'Atirador', 'Suporte', 'Tanque']\n",
    "labels = ['Classe']\n",
    "chart = create_chart(x, y, labels)\n",
    "chart_content = get_api_chart(chart)\n",
    "save_image('champions_lol.png', chart_content)\n",
    "display_image('champions_lol.png')"
   ]
  }
 ],
 "metadata": {
  "kernelspec": {
   "display_name": "Python 3 (ipykernel)",
   "language": "python",
   "name": "python3"
  },
  "language_info": {
   "codemirror_mode": {
    "name": "ipython",
    "version": 3
   },
   "file_extension": ".py",
   "mimetype": "text/x-python",
   "name": "python",
   "nbconvert_exporter": "python",
   "pygments_lexer": "ipython3",
   "version": "3.9.6"
  }
 },
 "nbformat": 4,
 "nbformat_minor": 5
}
